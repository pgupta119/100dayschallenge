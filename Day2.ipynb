{
 "cells": [
  {
   "cell_type": "code",
   "execution_count": 34,
   "metadata": {},
   "outputs": [],
   "source": [
    "import matplotlib.pyplot as plt #For Visualization of data\n",
    "import pandas as pd #Data manuplation and Analysis\n",
    "import numpy as np # for multi-dimensional array and  matrcies\n",
    "df=pd.read_csv(r\"https://raw.githubusercontent.com/ageron/handson-ml2/master/datasets/housing/housing.csv\")\n",
    "df.head()\n",
    "housing_labels=df.iloc[:,-2:-1].values"
   ]
  },
  {
   "cell_type": "code",
   "execution_count": 5,
   "metadata": {},
   "outputs": [],
   "source": [
    "#the missing value is replace by Median (for numerical value only)\n",
    "from sklearn.impute import  SimpleImputer\n",
    "df_num=df.drop(\"ocean_proximity\", axis=1) # create a copy of the data without the text attribute (categorical data)\n",
    "imputer=SimpleImputer(strategy=\"median\").fit(df_num)\n",
    "X=imputer.transform(df_num)"
   ]
  },
  {
   "cell_type": "code",
   "execution_count": 4,
   "metadata": {},
   "outputs": [
    {
     "data": {
      "text/plain": [
       "array([-1.1849e+02,  3.4260e+01,  2.9000e+01,  2.1270e+03,  4.3500e+02,\n",
       "        1.1660e+03,  4.0900e+02,  3.5348e+00,  1.7970e+05])"
      ]
     },
     "execution_count": 4,
     "metadata": {},
     "output_type": "execute_result"
    }
   ],
   "source": []
  },
  {
   "cell_type": "code",
   "execution_count": 17,
   "metadata": {},
   "outputs": [],
   "source": [
    "#handling text and Categorical Attributes\n",
    "df_cat=df[[\"ocean_proximity\"]]\n",
    "#coverting categroical data into numerical data using OrdinalEncoder\n",
    "from sklearn.preprocessing import OrdinalEncoder\n",
    "ordinal_encoder=OrdinalEncoder()\n",
    "df_cat_ord=ordinal_encoder.fit_transform(df_cat)\n",
    "#issue with the ML algorthims will assume that two nearby values asre more similar than two distant values.\n",
    "#To solve this problem I will use one-hot encoding"
   ]
  },
  {
   "cell_type": "code",
   "execution_count": 19,
   "metadata": {},
   "outputs": [
    {
     "data": {
      "text/plain": [
       "<20640x5 sparse matrix of type '<class 'numpy.float64'>'\n",
       "\twith 20640 stored elements in Compressed Sparse Row format>"
      ]
     },
     "execution_count": 19,
     "metadata": {},
     "output_type": "execute_result"
    }
   ],
   "source": [
    "from sklearn.preprocessing import OneHotEncoder\n",
    "cat_encod=OneHotEncoder()\n",
    "df_cat_hot=cat_encod.fit_transform(df_cat)\n",
    "df_cat_hot  #y. This is very useful when you have categorical attributes with thousands of categories.\n",
    "#After onehot encoding we get a matrix with thousands of columns, and the matrix is full of zeros except for a single 1 per row. \n",
    "#Using up tons of memory mostly to store zeros would be very wasteful,\n",
    "#so instead a sparse matrix only stores the location of the non‐zero elements."
   ]
  },
  {
   "cell_type": "code",
   "execution_count": 44,
   "metadata": {},
   "outputs": [],
   "source": [
    "#Handle Both numerical and categrocial columns usinga single transformer\n",
    "from sklearn.compose import ColumnTransformer\n",
    "num_columns=list(df_num)\n",
    "cat_columns=[\"ocean_proximity\"]\n",
    "pipeline_transformer=ColumnTransformer([(\"num\",pipeline_num,num_columns),(\"cat\",OneHotEncoder(),cat_columns)])\n",
    "df_prepared=pipeline_transformer.fit_transform(df)"
   ]
  },
  {
   "cell_type": "code",
   "execution_count": 22,
   "metadata": {},
   "outputs": [],
   "source": [
    "# Transformation Pipelines (Step that need to be executed in the right order)\n",
    "from sklearn.pipeline import Pipeline \n",
    "from sklearn.preprocessing import StandardScaler\n",
    "pipeline_num=Pipeline([('imputer', SimpleImputer(strategy='median')),('std_scaler',StandardScaler())])\n",
    "df_pip=pipeline_num.fit(df_num)\n"
   ]
  }
 ],
 "metadata": {
  "kernelspec": {
   "display_name": "Python 3",
   "language": "python",
   "name": "python3"
  },
  "language_info": {
   "codemirror_mode": {
    "name": "ipython",
    "version": 3
   },
   "file_extension": ".py",
   "mimetype": "text/x-python",
   "name": "python",
   "nbconvert_exporter": "python",
   "pygments_lexer": "ipython3",
   "version": "3.7.6"
  }
 },
 "nbformat": 4,
 "nbformat_minor": 4
}
