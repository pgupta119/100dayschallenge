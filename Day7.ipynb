{
 "cells": [
  {
   "cell_type": "code",
   "execution_count": 1,
   "metadata": {},
   "outputs": [],
   "source": [
    "import pandas as pd\n",
    "import numpy as np\n",
    "import matplotlib.pyplot as plt\n",
    "import seaborn as sns\n",
    "data_1a=pd.read_csv(r\"C:\\Users\\Gupta\\Downloads\\exp1a.csv\")\n",
    "data_1b=pd.read_csv(r\"C:\\Users\\Gupta\\Downloads\\exp1b.csv\")\n",
    "data_1c=pd.read_csv(r\"C:\\Users\\Gupta\\Downloads\\exp1c.csv\")"
   ]
  },
  {
   "cell_type": "code",
   "execution_count": 3,
   "metadata": {},
   "outputs": [],
   "source": [
    "#Create Y array for the output and X array for the input features\n",
    "X_1a=data_1a.iloc[:,:-1].values\n",
    "y_1a=data_1a.iloc[:,-1:].values\n",
    "X_1b=data_1b.iloc[:,:-1].values\n",
    "y_1b=data_1b.iloc[:,-1:].values\n",
    "X_1c=data_1c.iloc[:,:-1].values\n",
    "y_1c=data_1c.iloc[:,-1:].values\n",
    "\n",
    "X_data=[X_1a,X_1b,X_1c] #created a list of all the three dataset which contain X features\n",
    "y_data=[y_1a,y_1b,y_1c] #created a lisr of all the three dataset which conatin Y features"
   ]
  },
  {
   "cell_type": "code",
   "execution_count": 13,
   "metadata": {},
   "outputs": [],
   "source": [
    "# DecisionTreeClassifier and  LogisticRegression Model\n",
    "from sklearn.tree import DecisionTreeClassifier\n",
    "from sklearn.linear_model import LogisticRegression\n",
    "from sklearn.model_selection import cross_val_score, cross_val_predict\n",
    "from sklearn.metrics import confusion_matrix, plot_confusion_matrix\n",
    "clf_t = [DecisionTreeClassifier(criterion='entropy',random_state=0),LogisticRegression()]\n",
    "names = ['Decision Tree Classifier','Logistic Regression Classifier']"
   ]
  },
  {
   "cell_type": "code",
   "execution_count": 19,
   "metadata": {},
   "outputs": [
    {
     "name": "stdout",
     "output_type": "stream",
     "text": [
      " The data name is : exp1a\n",
      " The classifier name is: Decision Tree Classifier\n",
      "The confusion matrix of the exp data\n",
      " [[198   2]\n",
      " [  0 200]]\n",
      "The cross validation score is:\n",
      " [1.    1.    1.    1.    1.    1.    0.975 0.975 1.    1.   ]\n",
      " The classifier name is: Logistic Regression Classifier\n",
      "The confusion matrix of the exp data\n",
      " [[110  90]\n",
      " [101  99]]\n",
      "The cross validation score is:\n",
      " [0.6   0.6   0.45  0.6   0.525 0.525 0.575 0.35  0.425 0.575]\n",
      " The data name is : exp1b\n",
      " The classifier name is: Decision Tree Classifier\n",
      "The confusion matrix of the exp data\n",
      " [[ 96   4]\n",
      " [  0 200]]\n",
      "The cross validation score is:\n",
      " [1.         1.         0.96666667 1.         1.         1.\n",
      " 1.         1.         1.         0.9       ]\n",
      " The classifier name is: Logistic Regression Classifier\n",
      "The confusion matrix of the exp data\n",
      " [[  0 100]\n",
      " [  0 200]]\n",
      "The cross validation score is:\n",
      " [0.66666667 0.66666667 0.66666667 0.66666667 0.66666667 0.66666667\n",
      " 0.66666667 0.66666667 0.66666667 0.66666667]\n",
      " The data name is : exp1c\n",
      " The classifier name is: Decision Tree Classifier\n",
      "The confusion matrix of the exp data\n",
      " [[ 17   3]\n",
      " [  0 200]]\n",
      "The cross validation score is:\n",
      " [1.         0.95454545 0.95454545 1.         1.         1.\n",
      " 1.         1.         0.95454545 1.        ]\n",
      " The classifier name is: Logistic Regression Classifier\n",
      "The confusion matrix of the exp data\n",
      " [[  0  20]\n",
      " [  0 200]]\n",
      "The cross validation score is:\n",
      " [0.90909091 0.90909091 0.90909091 0.90909091 0.90909091 0.90909091\n",
      " 0.90909091 0.90909091 0.90909091 0.90909091]\n"
     ]
    }
   ],
   "source": [
    "#Modelling\n",
    "for X,y,name in zip(X_data,y_data,['exp1a','exp1b','exp1c']):\n",
    "    y=y.ravel()\n",
    "    print(\" The data name is :\",name)\n",
    "    for clf,clf_name in zip(clf_t,names):\n",
    "        print(\" The classifier name is:\",clf_name)\n",
    "        y_pred = cross_val_predict(clf,X,y,cv=10)\n",
    "        matrix=(confusion_matrix(y, y_pred,labels = [1,-1]))\n",
    "        score=(cross_val_score(clf, X, y, cv=10))\n",
    "        print(\"The confusion matrix of the exp data\\n\",matrix)\n",
    "        print(\"The cross validation score is:\\n\",score)\n",
    "        "
   ]
  },
  {
   "cell_type": "code",
   "execution_count": null,
   "metadata": {},
   "outputs": [],
   "source": []
  }
 ],
 "metadata": {
  "kernelspec": {
   "display_name": "Python 3",
   "language": "python",
   "name": "python3"
  },
  "language_info": {
   "codemirror_mode": {
    "name": "ipython",
    "version": 3
   },
   "file_extension": ".py",
   "mimetype": "text/x-python",
   "name": "python",
   "nbconvert_exporter": "python",
   "pygments_lexer": "ipython3",
   "version": "3.7.6"
  }
 },
 "nbformat": 4,
 "nbformat_minor": 4
}
